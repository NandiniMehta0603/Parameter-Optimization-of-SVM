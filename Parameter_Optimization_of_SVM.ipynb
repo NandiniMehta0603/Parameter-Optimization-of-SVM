{
  "nbformat": 4,
  "nbformat_minor": 0,
  "metadata": {
    "colab": {
      "provenance": [],
      "mount_file_id": "1H34yJphC8qPr6ycIL6NuiT9M9EumPblb",
      "authorship_tag": "ABX9TyMdKmEY70NYjh2Q7ZIl+HIe",
      "include_colab_link": true
    },
    "kernelspec": {
      "name": "python3",
      "display_name": "Python 3"
    },
    "language_info": {
      "name": "python"
    },
    "accelerator": "GPU",
    "gpuClass": "standard"
  },
  "cells": [
    {
      "cell_type": "markdown",
      "metadata": {
        "id": "view-in-github",
        "colab_type": "text"
      },
      "source": [
        "<a href=\"https://colab.research.google.com/github/NandiniMehta0603/Parameter-Optimization-of-SVM/blob/main/Parameter_Optimization_of_SVM.ipynb\" target=\"_parent\"><img src=\"https://colab.research.google.com/assets/colab-badge.svg\" alt=\"Open In Colab\"/></a>"
      ]
    },
    {
      "cell_type": "code",
      "execution_count": null,
      "metadata": {
        "id": "J254w3RmPogF"
      },
      "outputs": [],
      "source": [
        "\n",
        "# df = pd.read_csv(\"/content/drive/MyDrive/Colab Notebooks/Machine Learning/Datasets/Skin_NonSkin.txt\", names=['B', 'G', 'R', 'target'], sep=\"\\t\", index_col=False)\n",
        "# df.head()"
      ]
    },
    {
      "cell_type": "code",
      "source": [
        "from google.colab import drive\n",
        "drive.mount('/content/drive')"
      ],
      "metadata": {
        "colab": {
          "base_uri": "https://localhost:8080/"
        },
        "id": "nAqt8yPxWkO5",
        "outputId": "7d0c5127-c69a-4032-951b-fa4ba6f635a5"
      },
      "execution_count": 1,
      "outputs": [
        {
          "output_type": "stream",
          "name": "stdout",
          "text": [
            "Mounted at /content/drive\n"
          ]
        }
      ]
    },
    {
      "cell_type": "code",
      "source": [
        "import pandas as pd\n",
        "from sklearn.model_selection import GridSearchCV, train_test_split\n",
        "from sklearn.metrics import accuracy_score\n",
        "from sklearn.preprocessing import StandardScaler\n",
        "from sklearn.svm import SVC\n",
        "import matplotlib.pyplot as plt\n",
        "\n",
        "import warnings\n",
        "warnings.filterwarnings(\"ignore\")"
      ],
      "metadata": {
        "id": "TGObS74WX5iI"
      },
      "execution_count": 18,
      "outputs": []
    },
    {
      "cell_type": "code",
      "source": [
        "df=pd.read_csv(\"/content/drive/MyDrive/ml/accelerometer df.csv\",names=['target','speed percentage','x','y','z'])"
      ],
      "metadata": {
        "id": "BgW4tMh1Wl5m"
      },
      "execution_count": 19,
      "outputs": []
    },
    {
      "cell_type": "code",
      "source": [
        "df.head()"
      ],
      "metadata": {
        "colab": {
          "base_uri": "https://localhost:8080/",
          "height": 206
        },
        "id": "NXchk-amYEru",
        "outputId": "5e40a6cc-29c6-4ea6-dac1-320e6f712319"
      },
      "execution_count": 20,
      "outputs": [
        {
          "output_type": "execute_result",
          "data": {
            "text/plain": [
              "   target  speed percentage      x      y      z\n",
              "0       1                20  1.004  0.090 -0.125\n",
              "1       1                20  1.004 -0.043 -0.125\n",
              "2       1                20  0.969  0.090 -0.121\n",
              "3       1                20  0.973 -0.012 -0.137\n",
              "4       1                20  1.000 -0.016 -0.121"
            ],
            "text/html": [
              "\n",
              "  <div id=\"df-79c156ee-39a1-42fc-a381-9ef43900af7e\">\n",
              "    <div class=\"colab-df-container\">\n",
              "      <div>\n",
              "<style scoped>\n",
              "    .dataframe tbody tr th:only-of-type {\n",
              "        vertical-align: middle;\n",
              "    }\n",
              "\n",
              "    .dataframe tbody tr th {\n",
              "        vertical-align: top;\n",
              "    }\n",
              "\n",
              "    .dataframe thead th {\n",
              "        text-align: right;\n",
              "    }\n",
              "</style>\n",
              "<table border=\"1\" class=\"dataframe\">\n",
              "  <thead>\n",
              "    <tr style=\"text-align: right;\">\n",
              "      <th></th>\n",
              "      <th>target</th>\n",
              "      <th>speed percentage</th>\n",
              "      <th>x</th>\n",
              "      <th>y</th>\n",
              "      <th>z</th>\n",
              "    </tr>\n",
              "  </thead>\n",
              "  <tbody>\n",
              "    <tr>\n",
              "      <th>0</th>\n",
              "      <td>1</td>\n",
              "      <td>20</td>\n",
              "      <td>1.004</td>\n",
              "      <td>0.090</td>\n",
              "      <td>-0.125</td>\n",
              "    </tr>\n",
              "    <tr>\n",
              "      <th>1</th>\n",
              "      <td>1</td>\n",
              "      <td>20</td>\n",
              "      <td>1.004</td>\n",
              "      <td>-0.043</td>\n",
              "      <td>-0.125</td>\n",
              "    </tr>\n",
              "    <tr>\n",
              "      <th>2</th>\n",
              "      <td>1</td>\n",
              "      <td>20</td>\n",
              "      <td>0.969</td>\n",
              "      <td>0.090</td>\n",
              "      <td>-0.121</td>\n",
              "    </tr>\n",
              "    <tr>\n",
              "      <th>3</th>\n",
              "      <td>1</td>\n",
              "      <td>20</td>\n",
              "      <td>0.973</td>\n",
              "      <td>-0.012</td>\n",
              "      <td>-0.137</td>\n",
              "    </tr>\n",
              "    <tr>\n",
              "      <th>4</th>\n",
              "      <td>1</td>\n",
              "      <td>20</td>\n",
              "      <td>1.000</td>\n",
              "      <td>-0.016</td>\n",
              "      <td>-0.121</td>\n",
              "    </tr>\n",
              "  </tbody>\n",
              "</table>\n",
              "</div>\n",
              "      <button class=\"colab-df-convert\" onclick=\"convertToInteractive('df-79c156ee-39a1-42fc-a381-9ef43900af7e')\"\n",
              "              title=\"Convert this dataframe to an interactive table.\"\n",
              "              style=\"display:none;\">\n",
              "        \n",
              "  <svg xmlns=\"http://www.w3.org/2000/svg\" height=\"24px\"viewBox=\"0 0 24 24\"\n",
              "       width=\"24px\">\n",
              "    <path d=\"M0 0h24v24H0V0z\" fill=\"none\"/>\n",
              "    <path d=\"M18.56 5.44l.94 2.06.94-2.06 2.06-.94-2.06-.94-.94-2.06-.94 2.06-2.06.94zm-11 1L8.5 8.5l.94-2.06 2.06-.94-2.06-.94L8.5 2.5l-.94 2.06-2.06.94zm10 10l.94 2.06.94-2.06 2.06-.94-2.06-.94-.94-2.06-.94 2.06-2.06.94z\"/><path d=\"M17.41 7.96l-1.37-1.37c-.4-.4-.92-.59-1.43-.59-.52 0-1.04.2-1.43.59L10.3 9.45l-7.72 7.72c-.78.78-.78 2.05 0 2.83L4 21.41c.39.39.9.59 1.41.59.51 0 1.02-.2 1.41-.59l7.78-7.78 2.81-2.81c.8-.78.8-2.07 0-2.86zM5.41 20L4 18.59l7.72-7.72 1.47 1.35L5.41 20z\"/>\n",
              "  </svg>\n",
              "      </button>\n",
              "      \n",
              "  <style>\n",
              "    .colab-df-container {\n",
              "      display:flex;\n",
              "      flex-wrap:wrap;\n",
              "      gap: 12px;\n",
              "    }\n",
              "\n",
              "    .colab-df-convert {\n",
              "      background-color: #E8F0FE;\n",
              "      border: none;\n",
              "      border-radius: 50%;\n",
              "      cursor: pointer;\n",
              "      display: none;\n",
              "      fill: #1967D2;\n",
              "      height: 32px;\n",
              "      padding: 0 0 0 0;\n",
              "      width: 32px;\n",
              "    }\n",
              "\n",
              "    .colab-df-convert:hover {\n",
              "      background-color: #E2EBFA;\n",
              "      box-shadow: 0px 1px 2px rgba(60, 64, 67, 0.3), 0px 1px 3px 1px rgba(60, 64, 67, 0.15);\n",
              "      fill: #174EA6;\n",
              "    }\n",
              "\n",
              "    [theme=dark] .colab-df-convert {\n",
              "      background-color: #3B4455;\n",
              "      fill: #D2E3FC;\n",
              "    }\n",
              "\n",
              "    [theme=dark] .colab-df-convert:hover {\n",
              "      background-color: #434B5C;\n",
              "      box-shadow: 0px 1px 3px 1px rgba(0, 0, 0, 0.15);\n",
              "      filter: drop-shadow(0px 1px 2px rgba(0, 0, 0, 0.3));\n",
              "      fill: #FFFFFF;\n",
              "    }\n",
              "  </style>\n",
              "\n",
              "      <script>\n",
              "        const buttonEl =\n",
              "          document.querySelector('#df-79c156ee-39a1-42fc-a381-9ef43900af7e button.colab-df-convert');\n",
              "        buttonEl.style.display =\n",
              "          google.colab.kernel.accessAllowed ? 'block' : 'none';\n",
              "\n",
              "        async function convertToInteractive(key) {\n",
              "          const element = document.querySelector('#df-79c156ee-39a1-42fc-a381-9ef43900af7e');\n",
              "          const dataTable =\n",
              "            await google.colab.kernel.invokeFunction('convertToInteractive',\n",
              "                                                     [key], {});\n",
              "          if (!dataTable) return;\n",
              "\n",
              "          const docLinkHtml = 'Like what you see? Visit the ' +\n",
              "            '<a target=\"_blank\" href=https://colab.research.google.com/notebooks/data_table.ipynb>data table notebook</a>'\n",
              "            + ' to learn more about interactive tables.';\n",
              "          element.innerHTML = '';\n",
              "          dataTable['output_type'] = 'display_data';\n",
              "          await google.colab.output.renderOutput(dataTable, element);\n",
              "          const docLink = document.createElement('div');\n",
              "          docLink.innerHTML = docLinkHtml;\n",
              "          element.appendChild(docLink);\n",
              "        }\n",
              "      </script>\n",
              "    </div>\n",
              "  </div>\n",
              "  "
            ]
          },
          "metadata": {},
          "execution_count": 20
        }
      ]
    },
    {
      "cell_type": "code",
      "source": [
        "# first_col = df.pop(df.columns[0])\n",
        "\n",
        "# df[first_col.name] = first_col\n",
        "\n",
        "# df.head()"
      ],
      "metadata": {
        "id": "963Fi9RSYJjz"
      },
      "execution_count": 22,
      "outputs": []
    },
    {
      "cell_type": "code",
      "source": [
        "# df = df.iloc[1:]"
      ],
      "metadata": {
        "id": "g05qZk-Odl2k"
      },
      "execution_count": 14,
      "outputs": []
    },
    {
      "cell_type": "code",
      "source": [
        "df.head()"
      ],
      "metadata": {
        "colab": {
          "base_uri": "https://localhost:8080/",
          "height": 206
        },
        "id": "PLt5mTKzdoO5",
        "outputId": "3bc35088-dc83-4335-9c9d-71e2a10c4fba"
      },
      "execution_count": 21,
      "outputs": [
        {
          "output_type": "execute_result",
          "data": {
            "text/plain": [
              "   target  speed percentage      x      y      z\n",
              "0       1                20  1.004  0.090 -0.125\n",
              "1       1                20  1.004 -0.043 -0.125\n",
              "2       1                20  0.969  0.090 -0.121\n",
              "3       1                20  0.973 -0.012 -0.137\n",
              "4       1                20  1.000 -0.016 -0.121"
            ],
            "text/html": [
              "\n",
              "  <div id=\"df-7aeb6fc9-0d40-45c2-ba63-3b3f97965cbb\">\n",
              "    <div class=\"colab-df-container\">\n",
              "      <div>\n",
              "<style scoped>\n",
              "    .dataframe tbody tr th:only-of-type {\n",
              "        vertical-align: middle;\n",
              "    }\n",
              "\n",
              "    .dataframe tbody tr th {\n",
              "        vertical-align: top;\n",
              "    }\n",
              "\n",
              "    .dataframe thead th {\n",
              "        text-align: right;\n",
              "    }\n",
              "</style>\n",
              "<table border=\"1\" class=\"dataframe\">\n",
              "  <thead>\n",
              "    <tr style=\"text-align: right;\">\n",
              "      <th></th>\n",
              "      <th>target</th>\n",
              "      <th>speed percentage</th>\n",
              "      <th>x</th>\n",
              "      <th>y</th>\n",
              "      <th>z</th>\n",
              "    </tr>\n",
              "  </thead>\n",
              "  <tbody>\n",
              "    <tr>\n",
              "      <th>0</th>\n",
              "      <td>1</td>\n",
              "      <td>20</td>\n",
              "      <td>1.004</td>\n",
              "      <td>0.090</td>\n",
              "      <td>-0.125</td>\n",
              "    </tr>\n",
              "    <tr>\n",
              "      <th>1</th>\n",
              "      <td>1</td>\n",
              "      <td>20</td>\n",
              "      <td>1.004</td>\n",
              "      <td>-0.043</td>\n",
              "      <td>-0.125</td>\n",
              "    </tr>\n",
              "    <tr>\n",
              "      <th>2</th>\n",
              "      <td>1</td>\n",
              "      <td>20</td>\n",
              "      <td>0.969</td>\n",
              "      <td>0.090</td>\n",
              "      <td>-0.121</td>\n",
              "    </tr>\n",
              "    <tr>\n",
              "      <th>3</th>\n",
              "      <td>1</td>\n",
              "      <td>20</td>\n",
              "      <td>0.973</td>\n",
              "      <td>-0.012</td>\n",
              "      <td>-0.137</td>\n",
              "    </tr>\n",
              "    <tr>\n",
              "      <th>4</th>\n",
              "      <td>1</td>\n",
              "      <td>20</td>\n",
              "      <td>1.000</td>\n",
              "      <td>-0.016</td>\n",
              "      <td>-0.121</td>\n",
              "    </tr>\n",
              "  </tbody>\n",
              "</table>\n",
              "</div>\n",
              "      <button class=\"colab-df-convert\" onclick=\"convertToInteractive('df-7aeb6fc9-0d40-45c2-ba63-3b3f97965cbb')\"\n",
              "              title=\"Convert this dataframe to an interactive table.\"\n",
              "              style=\"display:none;\">\n",
              "        \n",
              "  <svg xmlns=\"http://www.w3.org/2000/svg\" height=\"24px\"viewBox=\"0 0 24 24\"\n",
              "       width=\"24px\">\n",
              "    <path d=\"M0 0h24v24H0V0z\" fill=\"none\"/>\n",
              "    <path d=\"M18.56 5.44l.94 2.06.94-2.06 2.06-.94-2.06-.94-.94-2.06-.94 2.06-2.06.94zm-11 1L8.5 8.5l.94-2.06 2.06-.94-2.06-.94L8.5 2.5l-.94 2.06-2.06.94zm10 10l.94 2.06.94-2.06 2.06-.94-2.06-.94-.94-2.06-.94 2.06-2.06.94z\"/><path d=\"M17.41 7.96l-1.37-1.37c-.4-.4-.92-.59-1.43-.59-.52 0-1.04.2-1.43.59L10.3 9.45l-7.72 7.72c-.78.78-.78 2.05 0 2.83L4 21.41c.39.39.9.59 1.41.59.51 0 1.02-.2 1.41-.59l7.78-7.78 2.81-2.81c.8-.78.8-2.07 0-2.86zM5.41 20L4 18.59l7.72-7.72 1.47 1.35L5.41 20z\"/>\n",
              "  </svg>\n",
              "      </button>\n",
              "      \n",
              "  <style>\n",
              "    .colab-df-container {\n",
              "      display:flex;\n",
              "      flex-wrap:wrap;\n",
              "      gap: 12px;\n",
              "    }\n",
              "\n",
              "    .colab-df-convert {\n",
              "      background-color: #E8F0FE;\n",
              "      border: none;\n",
              "      border-radius: 50%;\n",
              "      cursor: pointer;\n",
              "      display: none;\n",
              "      fill: #1967D2;\n",
              "      height: 32px;\n",
              "      padding: 0 0 0 0;\n",
              "      width: 32px;\n",
              "    }\n",
              "\n",
              "    .colab-df-convert:hover {\n",
              "      background-color: #E2EBFA;\n",
              "      box-shadow: 0px 1px 2px rgba(60, 64, 67, 0.3), 0px 1px 3px 1px rgba(60, 64, 67, 0.15);\n",
              "      fill: #174EA6;\n",
              "    }\n",
              "\n",
              "    [theme=dark] .colab-df-convert {\n",
              "      background-color: #3B4455;\n",
              "      fill: #D2E3FC;\n",
              "    }\n",
              "\n",
              "    [theme=dark] .colab-df-convert:hover {\n",
              "      background-color: #434B5C;\n",
              "      box-shadow: 0px 1px 3px 1px rgba(0, 0, 0, 0.15);\n",
              "      filter: drop-shadow(0px 1px 2px rgba(0, 0, 0, 0.3));\n",
              "      fill: #FFFFFF;\n",
              "    }\n",
              "  </style>\n",
              "\n",
              "      <script>\n",
              "        const buttonEl =\n",
              "          document.querySelector('#df-7aeb6fc9-0d40-45c2-ba63-3b3f97965cbb button.colab-df-convert');\n",
              "        buttonEl.style.display =\n",
              "          google.colab.kernel.accessAllowed ? 'block' : 'none';\n",
              "\n",
              "        async function convertToInteractive(key) {\n",
              "          const element = document.querySelector('#df-7aeb6fc9-0d40-45c2-ba63-3b3f97965cbb');\n",
              "          const dataTable =\n",
              "            await google.colab.kernel.invokeFunction('convertToInteractive',\n",
              "                                                     [key], {});\n",
              "          if (!dataTable) return;\n",
              "\n",
              "          const docLinkHtml = 'Like what you see? Visit the ' +\n",
              "            '<a target=\"_blank\" href=https://colab.research.google.com/notebooks/data_table.ipynb>data table notebook</a>'\n",
              "            + ' to learn more about interactive tables.';\n",
              "          element.innerHTML = '';\n",
              "          dataTable['output_type'] = 'display_data';\n",
              "          await google.colab.output.renderOutput(dataTable, element);\n",
              "          const docLink = document.createElement('div');\n",
              "          docLink.innerHTML = docLinkHtml;\n",
              "          element.appendChild(docLink);\n",
              "        }\n",
              "      </script>\n",
              "    </div>\n",
              "  </div>\n",
              "  "
            ]
          },
          "metadata": {},
          "execution_count": 21
        }
      ]
    },
    {
      "cell_type": "code",
      "source": [
        "# train_accs = []\n",
        "# test_accs = []\n",
        "# svm_best_params = []\n",
        "\n",
        "# for i in range(10):\n",
        "\n",
        "#   print('-------- Sample {}-------\\n'.format(i))\n",
        "#   dfi = df.sample(frac=0.1)\n",
        "#   X = dfi.iloc[:, :-1].values\n",
        "#   y = dfi.iloc[:, -1].values\n",
        "#   X_train, X_test, y_train, y_test = train_test_split(X, y, test_size=0.3, random_state=i)\n",
        "\n",
        "#   sc = StandardScaler()\n",
        "#   X_train = sc.fit_transform(X_train)\n",
        "#   X_test = sc.transform(X_test)\n",
        "\n",
        "#   # Optimize the SVM using grid search with cross-validation\n",
        "#   param_grid = {\n",
        "#       'C': [0.1, 1, 10, 100],\n",
        "#       'gamma': [0.1, 0.01, 0.001, 0.0001],\n",
        "#       'kernel': ['linear', 'rbf', 'sigmoid']\n",
        "#   }\n",
        "#   grid_search = GridSearchCV(SVC(), param_grid, cv=3, verbose=100, refit=True)\n",
        "#   grid_search.fit(X_train, y_train)\n",
        "#   best_params = grid_search.best_params_\n",
        "#   svm_best_params.append(best_params)\n",
        "\n",
        "#   print(best_params)\n",
        "#   # Train and test the SVM with the best parameters\n",
        "#   svm = SVC(C=best_params['C'], gamma=best_params['gamma'], kernel=best_params['kernel'], max_iter=1000)\n",
        "#   svm.fit(X_train, y_train)\n",
        "#   train_acc = svm.score(X_train, y_train)\n",
        "#   test_acc = svm.score(X_test, y_test)\n",
        "#   train_accs.append(train_acc)\n",
        "#   test_accs.append(test_acc)"
      ],
      "metadata": {
        "id": "P14X7ZCSZQHu"
      },
      "execution_count": 23,
      "outputs": []
    },
    {
      "cell_type": "code",
      "source": [
        "# X = dfi.iloc[:, :-1].values\n",
        "#   y = dfi.iloc[:, -1].values\n",
        "#   X_train, X_test, y_train, y_test = train_test_split(X, y, test_size=0.3, random_state=i)\n",
        "\n",
        "max_acc = 0\n",
        "acc_list = []\n",
        "param_list = []\n",
        "for i in range(10):\n",
        "    sample_df = df.sample(frac=0.40, replace=False)\n",
        "    x_train, x_test, y_train, y_test = train_test_split(sample_df.drop('target', axis=1), sample_df.target, test_size=0.3, random_state=42, stratify=sample_df.target)\n",
        "\n",
        "    x_train = StandardScaler().fit_transform(x_train)\n",
        "    param_grid = { \n",
        "                'C':[0.1, 0.5, 1, 2, 3],\n",
        "                'kernel':['rbf', 'poly', 'sigmoid', 'linear'],\n",
        "                'degree':[1, 2, 3, 4],\n",
        "                'gamma': [1, 0.1, 0.01, 0.001, 0.0001]\n",
        "                }\n",
        "    \n",
        "    grid = GridSearchCV(SVC(max_iter=100), param_grid)\n",
        "    grid.fit(x_train, y_train)  \n",
        "    y_pred = grid.predict(x_test)\n",
        "    print(grid.best_params_)\n",
        "    print('Sample {}'.format(i+1))\n",
        "    print('Accuracy: {}\\n'.format(accuracy_score(y_test, y_pred))) \n",
        "    \n",
        "    acc_list.append(accuracy_score(y_test, y_pred))\n",
        "    param_list.append(grid.best_params_)\n",
        "    \n",
        "    if accuracy_score(y_test, y_pred) > max_acc:\n",
        "        max_acc = accuracy_score(y_test, y_pred)\n",
        "        best_params = grid.best_params_\n",
        "        best_model = grid.best_estimator_\n",
        "        best_sample_df = sample_df"
      ],
      "metadata": {
        "id": "VuP7GhZdZdyL"
      },
      "execution_count": null,
      "outputs": []
    },
    {
      "cell_type": "code",
      "source": [
        "print(acc_list)\n",
        "print(param_list)"
      ],
      "metadata": {
        "id": "5tDFizGDcaP7"
      },
      "execution_count": null,
      "outputs": []
    },
    {
      "cell_type": "code",
      "source": [
        "final_df = pd.DataFrame(data=[acc_list, param_list], index=['Accuracy', 'Parameters']).T\n",
        "final_df"
      ],
      "metadata": {
        "id": "BtRfjGHxJPmc"
      },
      "execution_count": null,
      "outputs": []
    },
    {
      "cell_type": "code",
      "source": [
        "print(max_acc)\n",
        "print(best_params)\n",
        "print(best_model)\n",
        "best_sample_df.head()"
      ],
      "metadata": {
        "id": "jZohJrxiJS0x"
      },
      "execution_count": null,
      "outputs": []
    },
    {
      "cell_type": "code",
      "source": [
        "iterations = list()\n",
        "acc_list = list()\n",
        "x_train, x_test, y_train, y_test = train_test_split(best_sample_df.drop('salary', axis=1), best_sample_df.salary, test_size=0.3, random_state=42, stratify=best_sample_df.salary)\n",
        "x_train = StandardScaler().fit_transform(x_train)\n",
        "\n",
        "for i in range(100):\n",
        "    x = i+1\n",
        "    svm = SVC(C=2, degree=1, gamma=0.1, kernel='rbf', max_iter=x)\n",
        "    svm.fit(x_train, y_train)\n",
        "    y_pred = svm.predict(x_test)\n",
        "    accuracy = accuracy_score(y_test, y_pred)\n",
        "    acc_list.append(accuracy)\n",
        "    iterations.append(x)"
      ],
      "metadata": {
        "id": "L69RgwrzJWZz"
      },
      "execution_count": null,
      "outputs": []
    },
    {
      "cell_type": "code",
      "source": [
        "iterations = np.array(iterations)\n",
        "acc_list = np.array(acc_list)"
      ],
      "metadata": {
        "id": "Q_V4ynWvJc3v"
      },
      "execution_count": null,
      "outputs": []
    },
    {
      "cell_type": "code",
      "source": [
        "print(iterations.shape)\n",
        "print(acc_list.shape)"
      ],
      "metadata": {
        "id": "PmKoE4aQJfsR"
      },
      "execution_count": null,
      "outputs": []
    },
    {
      "cell_type": "code",
      "source": [
        "plt.plot(iterations, acc_list)\n",
        "plt.xlabel('Number of iterations')\n",
        "plt.ylabel('Accuracy')\n",
        "plt.title('Convergence of SVC')\n",
        "plt.show()"
      ],
      "metadata": {
        "id": "rx_QEeWlJiZn"
      },
      "execution_count": null,
      "outputs": []
    },
    {
      "cell_type": "code",
      "source": [],
      "metadata": {
        "id": "q-AVGM6VJlCd"
      },
      "execution_count": null,
      "outputs": []
    }
  ]
}