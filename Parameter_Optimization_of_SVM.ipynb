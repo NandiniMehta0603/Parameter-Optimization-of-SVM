{
  "nbformat": 4,
  "nbformat_minor": 0,
  "metadata": {
    "colab": {
      "provenance": [],
      "mount_file_id": "1H34yJphC8qPr6ycIL6NuiT9M9EumPblb",
      "authorship_tag": "ABX9TyM6tZtxMoXau8K28cW3jOFc",
      "include_colab_link": true
    },
    "kernelspec": {
      "name": "python3",
      "display_name": "Python 3"
    },
    "language_info": {
      "name": "python"
    },
    "gpuClass": "standard"
  },
  "cells": [
    {
      "cell_type": "markdown",
      "metadata": {
        "id": "view-in-github",
        "colab_type": "text"
      },
      "source": [
        "<a href=\"https://colab.research.google.com/github/NandiniMehta0603/Parameter-Optimization-of-SVM/blob/main/Parameter_Optimization_of_SVM.ipynb\" target=\"_parent\"><img src=\"https://colab.research.google.com/assets/colab-badge.svg\" alt=\"Open In Colab\"/></a>"
      ]
    },
    {
      "cell_type": "code",
      "source": [
        "from google.colab import drive\n",
        "drive.mount('/content/drive')"
      ],
      "metadata": {
        "colab": {
          "base_uri": "https://localhost:8080/"
        },
        "id": "nAqt8yPxWkO5",
        "outputId": "f01dc8cd-1eca-4dba-fa98-7283ea866f6f"
      },
      "execution_count": 1,
      "outputs": [
        {
          "output_type": "stream",
          "name": "stdout",
          "text": [
            "Drive already mounted at /content/drive; to attempt to forcibly remount, call drive.mount(\"/content/drive\", force_remount=True).\n"
          ]
        }
      ]
    },
    {
      "cell_type": "code",
      "source": [
        "import pandas as pd\n",
        "from sklearn.model_selection import GridSearchCV, train_test_split\n",
        "from sklearn.metrics import accuracy_score\n",
        "from sklearn.preprocessing import StandardScaler\n",
        "from sklearn.svm import SVC\n",
        "import matplotlib.pyplot as plt\n",
        "\n",
        "import warnings\n",
        "warnings.filterwarnings(\"ignore\")"
      ],
      "metadata": {
        "id": "TGObS74WX5iI"
      },
      "execution_count": 2,
      "outputs": []
    },
    {
      "cell_type": "code",
      "source": [
        "df=pd.read_csv(\"/content/drive/MyDrive/ml/accelerometer df.csv\",names=['target','speed percentage','x','y','z'])"
      ],
      "metadata": {
        "id": "BgW4tMh1Wl5m"
      },
      "execution_count": 3,
      "outputs": []
    },
    {
      "cell_type": "code",
      "source": [
        "df.head()"
      ],
      "metadata": {
        "colab": {
          "base_uri": "https://localhost:8080/",
          "height": 206
        },
        "id": "NXchk-amYEru",
        "outputId": "b1987f7f-9b62-4af4-c745-095b44ed9a81"
      },
      "execution_count": 4,
      "outputs": [
        {
          "output_type": "execute_result",
          "data": {
            "text/plain": [
              "   target  speed percentage      x      y      z\n",
              "0       1                20  1.004  0.090 -0.125\n",
              "1       1                20  1.004 -0.043 -0.125\n",
              "2       1                20  0.969  0.090 -0.121\n",
              "3       1                20  0.973 -0.012 -0.137\n",
              "4       1                20  1.000 -0.016 -0.121"
            ],
            "text/html": [
              "\n",
              "  <div id=\"df-60d7cc0d-3045-4999-a293-0132fa6ce302\">\n",
              "    <div class=\"colab-df-container\">\n",
              "      <div>\n",
              "<style scoped>\n",
              "    .dataframe tbody tr th:only-of-type {\n",
              "        vertical-align: middle;\n",
              "    }\n",
              "\n",
              "    .dataframe tbody tr th {\n",
              "        vertical-align: top;\n",
              "    }\n",
              "\n",
              "    .dataframe thead th {\n",
              "        text-align: right;\n",
              "    }\n",
              "</style>\n",
              "<table border=\"1\" class=\"dataframe\">\n",
              "  <thead>\n",
              "    <tr style=\"text-align: right;\">\n",
              "      <th></th>\n",
              "      <th>target</th>\n",
              "      <th>speed percentage</th>\n",
              "      <th>x</th>\n",
              "      <th>y</th>\n",
              "      <th>z</th>\n",
              "    </tr>\n",
              "  </thead>\n",
              "  <tbody>\n",
              "    <tr>\n",
              "      <th>0</th>\n",
              "      <td>1</td>\n",
              "      <td>20</td>\n",
              "      <td>1.004</td>\n",
              "      <td>0.090</td>\n",
              "      <td>-0.125</td>\n",
              "    </tr>\n",
              "    <tr>\n",
              "      <th>1</th>\n",
              "      <td>1</td>\n",
              "      <td>20</td>\n",
              "      <td>1.004</td>\n",
              "      <td>-0.043</td>\n",
              "      <td>-0.125</td>\n",
              "    </tr>\n",
              "    <tr>\n",
              "      <th>2</th>\n",
              "      <td>1</td>\n",
              "      <td>20</td>\n",
              "      <td>0.969</td>\n",
              "      <td>0.090</td>\n",
              "      <td>-0.121</td>\n",
              "    </tr>\n",
              "    <tr>\n",
              "      <th>3</th>\n",
              "      <td>1</td>\n",
              "      <td>20</td>\n",
              "      <td>0.973</td>\n",
              "      <td>-0.012</td>\n",
              "      <td>-0.137</td>\n",
              "    </tr>\n",
              "    <tr>\n",
              "      <th>4</th>\n",
              "      <td>1</td>\n",
              "      <td>20</td>\n",
              "      <td>1.000</td>\n",
              "      <td>-0.016</td>\n",
              "      <td>-0.121</td>\n",
              "    </tr>\n",
              "  </tbody>\n",
              "</table>\n",
              "</div>\n",
              "      <button class=\"colab-df-convert\" onclick=\"convertToInteractive('df-60d7cc0d-3045-4999-a293-0132fa6ce302')\"\n",
              "              title=\"Convert this dataframe to an interactive table.\"\n",
              "              style=\"display:none;\">\n",
              "        \n",
              "  <svg xmlns=\"http://www.w3.org/2000/svg\" height=\"24px\"viewBox=\"0 0 24 24\"\n",
              "       width=\"24px\">\n",
              "    <path d=\"M0 0h24v24H0V0z\" fill=\"none\"/>\n",
              "    <path d=\"M18.56 5.44l.94 2.06.94-2.06 2.06-.94-2.06-.94-.94-2.06-.94 2.06-2.06.94zm-11 1L8.5 8.5l.94-2.06 2.06-.94-2.06-.94L8.5 2.5l-.94 2.06-2.06.94zm10 10l.94 2.06.94-2.06 2.06-.94-2.06-.94-.94-2.06-.94 2.06-2.06.94z\"/><path d=\"M17.41 7.96l-1.37-1.37c-.4-.4-.92-.59-1.43-.59-.52 0-1.04.2-1.43.59L10.3 9.45l-7.72 7.72c-.78.78-.78 2.05 0 2.83L4 21.41c.39.39.9.59 1.41.59.51 0 1.02-.2 1.41-.59l7.78-7.78 2.81-2.81c.8-.78.8-2.07 0-2.86zM5.41 20L4 18.59l7.72-7.72 1.47 1.35L5.41 20z\"/>\n",
              "  </svg>\n",
              "      </button>\n",
              "      \n",
              "  <style>\n",
              "    .colab-df-container {\n",
              "      display:flex;\n",
              "      flex-wrap:wrap;\n",
              "      gap: 12px;\n",
              "    }\n",
              "\n",
              "    .colab-df-convert {\n",
              "      background-color: #E8F0FE;\n",
              "      border: none;\n",
              "      border-radius: 50%;\n",
              "      cursor: pointer;\n",
              "      display: none;\n",
              "      fill: #1967D2;\n",
              "      height: 32px;\n",
              "      padding: 0 0 0 0;\n",
              "      width: 32px;\n",
              "    }\n",
              "\n",
              "    .colab-df-convert:hover {\n",
              "      background-color: #E2EBFA;\n",
              "      box-shadow: 0px 1px 2px rgba(60, 64, 67, 0.3), 0px 1px 3px 1px rgba(60, 64, 67, 0.15);\n",
              "      fill: #174EA6;\n",
              "    }\n",
              "\n",
              "    [theme=dark] .colab-df-convert {\n",
              "      background-color: #3B4455;\n",
              "      fill: #D2E3FC;\n",
              "    }\n",
              "\n",
              "    [theme=dark] .colab-df-convert:hover {\n",
              "      background-color: #434B5C;\n",
              "      box-shadow: 0px 1px 3px 1px rgba(0, 0, 0, 0.15);\n",
              "      filter: drop-shadow(0px 1px 2px rgba(0, 0, 0, 0.3));\n",
              "      fill: #FFFFFF;\n",
              "    }\n",
              "  </style>\n",
              "\n",
              "      <script>\n",
              "        const buttonEl =\n",
              "          document.querySelector('#df-60d7cc0d-3045-4999-a293-0132fa6ce302 button.colab-df-convert');\n",
              "        buttonEl.style.display =\n",
              "          google.colab.kernel.accessAllowed ? 'block' : 'none';\n",
              "\n",
              "        async function convertToInteractive(key) {\n",
              "          const element = document.querySelector('#df-60d7cc0d-3045-4999-a293-0132fa6ce302');\n",
              "          const dataTable =\n",
              "            await google.colab.kernel.invokeFunction('convertToInteractive',\n",
              "                                                     [key], {});\n",
              "          if (!dataTable) return;\n",
              "\n",
              "          const docLinkHtml = 'Like what you see? Visit the ' +\n",
              "            '<a target=\"_blank\" href=https://colab.research.google.com/notebooks/data_table.ipynb>data table notebook</a>'\n",
              "            + ' to learn more about interactive tables.';\n",
              "          element.innerHTML = '';\n",
              "          dataTable['output_type'] = 'display_data';\n",
              "          await google.colab.output.renderOutput(dataTable, element);\n",
              "          const docLink = document.createElement('div');\n",
              "          docLink.innerHTML = docLinkHtml;\n",
              "          element.appendChild(docLink);\n",
              "        }\n",
              "      </script>\n",
              "    </div>\n",
              "  </div>\n",
              "  "
            ]
          },
          "metadata": {},
          "execution_count": 4
        }
      ]
    },
    {
      "cell_type": "code",
      "source": [
        "# X = dfi.iloc[:, :-1].values\n",
        "#   y = dfi.iloc[:, -1].values\n",
        "#   X_train, X_test, y_train, y_test = train_test_split(X, y, test_size=0.3, random_state=i)\n",
        "\n",
        "max_acc = 0\n",
        "acc_list = []\n",
        "param_list = []\n",
        "for i in range(10):\n",
        "    sample_df = df.sample(frac=0.40, replace=False)\n",
        "    x_train, x_test, y_train, y_test = train_test_split(sample_df.drop('target', axis=1), sample_df.target, test_size=0.3, random_state=42, stratify=sample_df.target)\n",
        "\n",
        "    x_train = StandardScaler().fit_transform(x_train)\n",
        "    param_grid = { \n",
        "                'C':[0.1, 0.5, 1, 2, 3],\n",
        "                'kernel':['rbf', 'poly', 'sigmoid', 'linear'],\n",
        "                'degree':[1, 2, 3, 4],\n",
        "                'gamma': [1, 0.1, 0.01, 0.001, 0.0001]\n",
        "                }\n",
        "    \n",
        "    grid = GridSearchCV(SVC(max_iter=100), param_grid)\n",
        "    grid.fit(x_train, y_train)  \n",
        "    y_pred = grid.predict(x_test)\n",
        "    print(grid.best_params_)\n",
        "    print('Sample {}'.format(i+1))\n",
        "    print('Accuracy: {}\\n'.format(accuracy_score(y_test, y_pred))) \n",
        "    \n",
        "    acc_list.append(accuracy_score(y_test, y_pred))\n",
        "    param_list.append(grid.best_params_)\n",
        "    \n",
        "    if accuracy_score(y_test, y_pred) > max_acc:\n",
        "        max_acc = accuracy_score(y_test, y_pred)\n",
        "        best_params = grid.best_params_\n",
        "        best_model = grid.best_estimator_\n",
        "        best_sample_df = sample_df"
      ],
      "metadata": {
        "id": "VuP7GhZdZdyL",
        "colab": {
          "base_uri": "https://localhost:8080/"
        },
        "outputId": "3a67d6d0-6bbb-419d-8139-83148840558c"
      },
      "execution_count": 5,
      "outputs": [
        {
          "output_type": "stream",
          "name": "stdout",
          "text": [
            "{'C': 3, 'degree': 1, 'gamma': 0.1, 'kernel': 'rbf'}\n",
            "Sample 1\n",
            "Accuracy: 0.3309368191721133\n",
            "\n",
            "{'C': 3, 'degree': 2, 'gamma': 1, 'kernel': 'poly'}\n",
            "Sample 2\n",
            "Accuracy: 0.34809368191721135\n",
            "\n",
            "{'C': 0.1, 'degree': 2, 'gamma': 0.01, 'kernel': 'poly'}\n",
            "Sample 3\n",
            "Accuracy: 0.3340958605664488\n",
            "\n",
            "{'C': 3, 'degree': 1, 'gamma': 1, 'kernel': 'rbf'}\n",
            "Sample 4\n",
            "Accuracy: 0.33126361655773423\n",
            "\n",
            "{'C': 1, 'degree': 2, 'gamma': 0.01, 'kernel': 'poly'}\n",
            "Sample 5\n",
            "Accuracy: 0.3397058823529412\n",
            "\n",
            "{'C': 2, 'degree': 2, 'gamma': 0.01, 'kernel': 'poly'}\n",
            "Sample 6\n",
            "Accuracy: 0.3449891067538126\n",
            "\n",
            "{'C': 1, 'degree': 2, 'gamma': 0.01, 'kernel': 'poly'}\n",
            "Sample 7\n",
            "Accuracy: 0.3803376906318083\n",
            "\n",
            "{'C': 3, 'degree': 2, 'gamma': 1, 'kernel': 'poly'}\n",
            "Sample 8\n",
            "Accuracy: 0.3332788671023965\n",
            "\n",
            "{'C': 3, 'degree': 1, 'gamma': 0.1, 'kernel': 'rbf'}\n",
            "Sample 9\n",
            "Accuracy: 0.33736383442265794\n",
            "\n",
            "{'C': 3, 'degree': 1, 'gamma': 0.1, 'kernel': 'rbf'}\n",
            "Sample 10\n",
            "Accuracy: 0.33344226579520697\n",
            "\n"
          ]
        }
      ]
    },
    {
      "cell_type": "code",
      "source": [
        "print(acc_list)\n",
        "print(param_list)"
      ],
      "metadata": {
        "id": "5tDFizGDcaP7",
        "colab": {
          "base_uri": "https://localhost:8080/"
        },
        "outputId": "b75b2b83-a526-4190-b7cf-a808b898d286"
      },
      "execution_count": 6,
      "outputs": [
        {
          "output_type": "stream",
          "name": "stdout",
          "text": [
            "[0.3309368191721133, 0.34809368191721135, 0.3340958605664488, 0.33126361655773423, 0.3397058823529412, 0.3449891067538126, 0.3803376906318083, 0.3332788671023965, 0.33736383442265794, 0.33344226579520697]\n",
            "[{'C': 3, 'degree': 1, 'gamma': 0.1, 'kernel': 'rbf'}, {'C': 3, 'degree': 2, 'gamma': 1, 'kernel': 'poly'}, {'C': 0.1, 'degree': 2, 'gamma': 0.01, 'kernel': 'poly'}, {'C': 3, 'degree': 1, 'gamma': 1, 'kernel': 'rbf'}, {'C': 1, 'degree': 2, 'gamma': 0.01, 'kernel': 'poly'}, {'C': 2, 'degree': 2, 'gamma': 0.01, 'kernel': 'poly'}, {'C': 1, 'degree': 2, 'gamma': 0.01, 'kernel': 'poly'}, {'C': 3, 'degree': 2, 'gamma': 1, 'kernel': 'poly'}, {'C': 3, 'degree': 1, 'gamma': 0.1, 'kernel': 'rbf'}, {'C': 3, 'degree': 1, 'gamma': 0.1, 'kernel': 'rbf'}]\n"
          ]
        }
      ]
    },
    {
      "cell_type": "code",
      "source": [
        "final_df = pd.DataFrame(data=[acc_list, param_list], index=['Accuracy', 'Parameters']).T\n",
        "final_df"
      ],
      "metadata": {
        "id": "BtRfjGHxJPmc",
        "colab": {
          "base_uri": "https://localhost:8080/",
          "height": 363
        },
        "outputId": "8fd42dc6-bb87-4235-fc0e-50f9a3160248"
      },
      "execution_count": 7,
      "outputs": [
        {
          "output_type": "execute_result",
          "data": {
            "text/plain": [
              "   Accuracy                                         Parameters\n",
              "0  0.330937  {'C': 3, 'degree': 1, 'gamma': 0.1, 'kernel': ...\n",
              "1  0.348094  {'C': 3, 'degree': 2, 'gamma': 1, 'kernel': 'p...\n",
              "2  0.334096  {'C': 0.1, 'degree': 2, 'gamma': 0.01, 'kernel...\n",
              "3  0.331264  {'C': 3, 'degree': 1, 'gamma': 1, 'kernel': 'r...\n",
              "4  0.339706  {'C': 1, 'degree': 2, 'gamma': 0.01, 'kernel':...\n",
              "5  0.344989  {'C': 2, 'degree': 2, 'gamma': 0.01, 'kernel':...\n",
              "6  0.380338  {'C': 1, 'degree': 2, 'gamma': 0.01, 'kernel':...\n",
              "7  0.333279  {'C': 3, 'degree': 2, 'gamma': 1, 'kernel': 'p...\n",
              "8  0.337364  {'C': 3, 'degree': 1, 'gamma': 0.1, 'kernel': ...\n",
              "9  0.333442  {'C': 3, 'degree': 1, 'gamma': 0.1, 'kernel': ..."
            ],
            "text/html": [
              "\n",
              "  <div id=\"df-c7c8dcd5-4401-42ce-9c8e-40b9c914a2fd\">\n",
              "    <div class=\"colab-df-container\">\n",
              "      <div>\n",
              "<style scoped>\n",
              "    .dataframe tbody tr th:only-of-type {\n",
              "        vertical-align: middle;\n",
              "    }\n",
              "\n",
              "    .dataframe tbody tr th {\n",
              "        vertical-align: top;\n",
              "    }\n",
              "\n",
              "    .dataframe thead th {\n",
              "        text-align: right;\n",
              "    }\n",
              "</style>\n",
              "<table border=\"1\" class=\"dataframe\">\n",
              "  <thead>\n",
              "    <tr style=\"text-align: right;\">\n",
              "      <th></th>\n",
              "      <th>Accuracy</th>\n",
              "      <th>Parameters</th>\n",
              "    </tr>\n",
              "  </thead>\n",
              "  <tbody>\n",
              "    <tr>\n",
              "      <th>0</th>\n",
              "      <td>0.330937</td>\n",
              "      <td>{'C': 3, 'degree': 1, 'gamma': 0.1, 'kernel': ...</td>\n",
              "    </tr>\n",
              "    <tr>\n",
              "      <th>1</th>\n",
              "      <td>0.348094</td>\n",
              "      <td>{'C': 3, 'degree': 2, 'gamma': 1, 'kernel': 'p...</td>\n",
              "    </tr>\n",
              "    <tr>\n",
              "      <th>2</th>\n",
              "      <td>0.334096</td>\n",
              "      <td>{'C': 0.1, 'degree': 2, 'gamma': 0.01, 'kernel...</td>\n",
              "    </tr>\n",
              "    <tr>\n",
              "      <th>3</th>\n",
              "      <td>0.331264</td>\n",
              "      <td>{'C': 3, 'degree': 1, 'gamma': 1, 'kernel': 'r...</td>\n",
              "    </tr>\n",
              "    <tr>\n",
              "      <th>4</th>\n",
              "      <td>0.339706</td>\n",
              "      <td>{'C': 1, 'degree': 2, 'gamma': 0.01, 'kernel':...</td>\n",
              "    </tr>\n",
              "    <tr>\n",
              "      <th>5</th>\n",
              "      <td>0.344989</td>\n",
              "      <td>{'C': 2, 'degree': 2, 'gamma': 0.01, 'kernel':...</td>\n",
              "    </tr>\n",
              "    <tr>\n",
              "      <th>6</th>\n",
              "      <td>0.380338</td>\n",
              "      <td>{'C': 1, 'degree': 2, 'gamma': 0.01, 'kernel':...</td>\n",
              "    </tr>\n",
              "    <tr>\n",
              "      <th>7</th>\n",
              "      <td>0.333279</td>\n",
              "      <td>{'C': 3, 'degree': 2, 'gamma': 1, 'kernel': 'p...</td>\n",
              "    </tr>\n",
              "    <tr>\n",
              "      <th>8</th>\n",
              "      <td>0.337364</td>\n",
              "      <td>{'C': 3, 'degree': 1, 'gamma': 0.1, 'kernel': ...</td>\n",
              "    </tr>\n",
              "    <tr>\n",
              "      <th>9</th>\n",
              "      <td>0.333442</td>\n",
              "      <td>{'C': 3, 'degree': 1, 'gamma': 0.1, 'kernel': ...</td>\n",
              "    </tr>\n",
              "  </tbody>\n",
              "</table>\n",
              "</div>\n",
              "      <button class=\"colab-df-convert\" onclick=\"convertToInteractive('df-c7c8dcd5-4401-42ce-9c8e-40b9c914a2fd')\"\n",
              "              title=\"Convert this dataframe to an interactive table.\"\n",
              "              style=\"display:none;\">\n",
              "        \n",
              "  <svg xmlns=\"http://www.w3.org/2000/svg\" height=\"24px\"viewBox=\"0 0 24 24\"\n",
              "       width=\"24px\">\n",
              "    <path d=\"M0 0h24v24H0V0z\" fill=\"none\"/>\n",
              "    <path d=\"M18.56 5.44l.94 2.06.94-2.06 2.06-.94-2.06-.94-.94-2.06-.94 2.06-2.06.94zm-11 1L8.5 8.5l.94-2.06 2.06-.94-2.06-.94L8.5 2.5l-.94 2.06-2.06.94zm10 10l.94 2.06.94-2.06 2.06-.94-2.06-.94-.94-2.06-.94 2.06-2.06.94z\"/><path d=\"M17.41 7.96l-1.37-1.37c-.4-.4-.92-.59-1.43-.59-.52 0-1.04.2-1.43.59L10.3 9.45l-7.72 7.72c-.78.78-.78 2.05 0 2.83L4 21.41c.39.39.9.59 1.41.59.51 0 1.02-.2 1.41-.59l7.78-7.78 2.81-2.81c.8-.78.8-2.07 0-2.86zM5.41 20L4 18.59l7.72-7.72 1.47 1.35L5.41 20z\"/>\n",
              "  </svg>\n",
              "      </button>\n",
              "      \n",
              "  <style>\n",
              "    .colab-df-container {\n",
              "      display:flex;\n",
              "      flex-wrap:wrap;\n",
              "      gap: 12px;\n",
              "    }\n",
              "\n",
              "    .colab-df-convert {\n",
              "      background-color: #E8F0FE;\n",
              "      border: none;\n",
              "      border-radius: 50%;\n",
              "      cursor: pointer;\n",
              "      display: none;\n",
              "      fill: #1967D2;\n",
              "      height: 32px;\n",
              "      padding: 0 0 0 0;\n",
              "      width: 32px;\n",
              "    }\n",
              "\n",
              "    .colab-df-convert:hover {\n",
              "      background-color: #E2EBFA;\n",
              "      box-shadow: 0px 1px 2px rgba(60, 64, 67, 0.3), 0px 1px 3px 1px rgba(60, 64, 67, 0.15);\n",
              "      fill: #174EA6;\n",
              "    }\n",
              "\n",
              "    [theme=dark] .colab-df-convert {\n",
              "      background-color: #3B4455;\n",
              "      fill: #D2E3FC;\n",
              "    }\n",
              "\n",
              "    [theme=dark] .colab-df-convert:hover {\n",
              "      background-color: #434B5C;\n",
              "      box-shadow: 0px 1px 3px 1px rgba(0, 0, 0, 0.15);\n",
              "      filter: drop-shadow(0px 1px 2px rgba(0, 0, 0, 0.3));\n",
              "      fill: #FFFFFF;\n",
              "    }\n",
              "  </style>\n",
              "\n",
              "      <script>\n",
              "        const buttonEl =\n",
              "          document.querySelector('#df-c7c8dcd5-4401-42ce-9c8e-40b9c914a2fd button.colab-df-convert');\n",
              "        buttonEl.style.display =\n",
              "          google.colab.kernel.accessAllowed ? 'block' : 'none';\n",
              "\n",
              "        async function convertToInteractive(key) {\n",
              "          const element = document.querySelector('#df-c7c8dcd5-4401-42ce-9c8e-40b9c914a2fd');\n",
              "          const dataTable =\n",
              "            await google.colab.kernel.invokeFunction('convertToInteractive',\n",
              "                                                     [key], {});\n",
              "          if (!dataTable) return;\n",
              "\n",
              "          const docLinkHtml = 'Like what you see? Visit the ' +\n",
              "            '<a target=\"_blank\" href=https://colab.research.google.com/notebooks/data_table.ipynb>data table notebook</a>'\n",
              "            + ' to learn more about interactive tables.';\n",
              "          element.innerHTML = '';\n",
              "          dataTable['output_type'] = 'display_data';\n",
              "          await google.colab.output.renderOutput(dataTable, element);\n",
              "          const docLink = document.createElement('div');\n",
              "          docLink.innerHTML = docLinkHtml;\n",
              "          element.appendChild(docLink);\n",
              "        }\n",
              "      </script>\n",
              "    </div>\n",
              "  </div>\n",
              "  "
            ]
          },
          "metadata": {},
          "execution_count": 7
        }
      ]
    },
    {
      "cell_type": "code",
      "source": [
        "print(max_acc)\n",
        "print(best_params)\n",
        "print(best_model)\n",
        "best_sample_df.head()"
      ],
      "metadata": {
        "id": "jZohJrxiJS0x",
        "colab": {
          "base_uri": "https://localhost:8080/",
          "height": 258
        },
        "outputId": "18e518fb-9df6-4520-e261-3cad7a254460"
      },
      "execution_count": 8,
      "outputs": [
        {
          "output_type": "stream",
          "name": "stdout",
          "text": [
            "0.3803376906318083\n",
            "{'C': 1, 'degree': 2, 'gamma': 0.01, 'kernel': 'poly'}\n",
            "SVC(C=1, degree=2, gamma=0.01, kernel='poly', max_iter=100)\n"
          ]
        },
        {
          "output_type": "execute_result",
          "data": {
            "text/plain": [
              "        target  speed percentage      x      y      z\n",
              "130537       3                65  0.973  0.039 -0.113\n",
              "146916       3                90  1.234 -0.184 -0.191\n",
              "16038        1                45  1.074 -0.438  0.023\n",
              "38988        1                80  1.590 -0.332 -0.195\n",
              "73881        2                55  0.984  0.043 -0.426"
            ],
            "text/html": [
              "\n",
              "  <div id=\"df-532038b7-e1bd-4494-ba3d-f5e31457ba4b\">\n",
              "    <div class=\"colab-df-container\">\n",
              "      <div>\n",
              "<style scoped>\n",
              "    .dataframe tbody tr th:only-of-type {\n",
              "        vertical-align: middle;\n",
              "    }\n",
              "\n",
              "    .dataframe tbody tr th {\n",
              "        vertical-align: top;\n",
              "    }\n",
              "\n",
              "    .dataframe thead th {\n",
              "        text-align: right;\n",
              "    }\n",
              "</style>\n",
              "<table border=\"1\" class=\"dataframe\">\n",
              "  <thead>\n",
              "    <tr style=\"text-align: right;\">\n",
              "      <th></th>\n",
              "      <th>target</th>\n",
              "      <th>speed percentage</th>\n",
              "      <th>x</th>\n",
              "      <th>y</th>\n",
              "      <th>z</th>\n",
              "    </tr>\n",
              "  </thead>\n",
              "  <tbody>\n",
              "    <tr>\n",
              "      <th>130537</th>\n",
              "      <td>3</td>\n",
              "      <td>65</td>\n",
              "      <td>0.973</td>\n",
              "      <td>0.039</td>\n",
              "      <td>-0.113</td>\n",
              "    </tr>\n",
              "    <tr>\n",
              "      <th>146916</th>\n",
              "      <td>3</td>\n",
              "      <td>90</td>\n",
              "      <td>1.234</td>\n",
              "      <td>-0.184</td>\n",
              "      <td>-0.191</td>\n",
              "    </tr>\n",
              "    <tr>\n",
              "      <th>16038</th>\n",
              "      <td>1</td>\n",
              "      <td>45</td>\n",
              "      <td>1.074</td>\n",
              "      <td>-0.438</td>\n",
              "      <td>0.023</td>\n",
              "    </tr>\n",
              "    <tr>\n",
              "      <th>38988</th>\n",
              "      <td>1</td>\n",
              "      <td>80</td>\n",
              "      <td>1.590</td>\n",
              "      <td>-0.332</td>\n",
              "      <td>-0.195</td>\n",
              "    </tr>\n",
              "    <tr>\n",
              "      <th>73881</th>\n",
              "      <td>2</td>\n",
              "      <td>55</td>\n",
              "      <td>0.984</td>\n",
              "      <td>0.043</td>\n",
              "      <td>-0.426</td>\n",
              "    </tr>\n",
              "  </tbody>\n",
              "</table>\n",
              "</div>\n",
              "      <button class=\"colab-df-convert\" onclick=\"convertToInteractive('df-532038b7-e1bd-4494-ba3d-f5e31457ba4b')\"\n",
              "              title=\"Convert this dataframe to an interactive table.\"\n",
              "              style=\"display:none;\">\n",
              "        \n",
              "  <svg xmlns=\"http://www.w3.org/2000/svg\" height=\"24px\"viewBox=\"0 0 24 24\"\n",
              "       width=\"24px\">\n",
              "    <path d=\"M0 0h24v24H0V0z\" fill=\"none\"/>\n",
              "    <path d=\"M18.56 5.44l.94 2.06.94-2.06 2.06-.94-2.06-.94-.94-2.06-.94 2.06-2.06.94zm-11 1L8.5 8.5l.94-2.06 2.06-.94-2.06-.94L8.5 2.5l-.94 2.06-2.06.94zm10 10l.94 2.06.94-2.06 2.06-.94-2.06-.94-.94-2.06-.94 2.06-2.06.94z\"/><path d=\"M17.41 7.96l-1.37-1.37c-.4-.4-.92-.59-1.43-.59-.52 0-1.04.2-1.43.59L10.3 9.45l-7.72 7.72c-.78.78-.78 2.05 0 2.83L4 21.41c.39.39.9.59 1.41.59.51 0 1.02-.2 1.41-.59l7.78-7.78 2.81-2.81c.8-.78.8-2.07 0-2.86zM5.41 20L4 18.59l7.72-7.72 1.47 1.35L5.41 20z\"/>\n",
              "  </svg>\n",
              "      </button>\n",
              "      \n",
              "  <style>\n",
              "    .colab-df-container {\n",
              "      display:flex;\n",
              "      flex-wrap:wrap;\n",
              "      gap: 12px;\n",
              "    }\n",
              "\n",
              "    .colab-df-convert {\n",
              "      background-color: #E8F0FE;\n",
              "      border: none;\n",
              "      border-radius: 50%;\n",
              "      cursor: pointer;\n",
              "      display: none;\n",
              "      fill: #1967D2;\n",
              "      height: 32px;\n",
              "      padding: 0 0 0 0;\n",
              "      width: 32px;\n",
              "    }\n",
              "\n",
              "    .colab-df-convert:hover {\n",
              "      background-color: #E2EBFA;\n",
              "      box-shadow: 0px 1px 2px rgba(60, 64, 67, 0.3), 0px 1px 3px 1px rgba(60, 64, 67, 0.15);\n",
              "      fill: #174EA6;\n",
              "    }\n",
              "\n",
              "    [theme=dark] .colab-df-convert {\n",
              "      background-color: #3B4455;\n",
              "      fill: #D2E3FC;\n",
              "    }\n",
              "\n",
              "    [theme=dark] .colab-df-convert:hover {\n",
              "      background-color: #434B5C;\n",
              "      box-shadow: 0px 1px 3px 1px rgba(0, 0, 0, 0.15);\n",
              "      filter: drop-shadow(0px 1px 2px rgba(0, 0, 0, 0.3));\n",
              "      fill: #FFFFFF;\n",
              "    }\n",
              "  </style>\n",
              "\n",
              "      <script>\n",
              "        const buttonEl =\n",
              "          document.querySelector('#df-532038b7-e1bd-4494-ba3d-f5e31457ba4b button.colab-df-convert');\n",
              "        buttonEl.style.display =\n",
              "          google.colab.kernel.accessAllowed ? 'block' : 'none';\n",
              "\n",
              "        async function convertToInteractive(key) {\n",
              "          const element = document.querySelector('#df-532038b7-e1bd-4494-ba3d-f5e31457ba4b');\n",
              "          const dataTable =\n",
              "            await google.colab.kernel.invokeFunction('convertToInteractive',\n",
              "                                                     [key], {});\n",
              "          if (!dataTable) return;\n",
              "\n",
              "          const docLinkHtml = 'Like what you see? Visit the ' +\n",
              "            '<a target=\"_blank\" href=https://colab.research.google.com/notebooks/data_table.ipynb>data table notebook</a>'\n",
              "            + ' to learn more about interactive tables.';\n",
              "          element.innerHTML = '';\n",
              "          dataTable['output_type'] = 'display_data';\n",
              "          await google.colab.output.renderOutput(dataTable, element);\n",
              "          const docLink = document.createElement('div');\n",
              "          docLink.innerHTML = docLinkHtml;\n",
              "          element.appendChild(docLink);\n",
              "        }\n",
              "      </script>\n",
              "    </div>\n",
              "  </div>\n",
              "  "
            ]
          },
          "metadata": {},
          "execution_count": 8
        }
      ]
    },
    {
      "cell_type": "code",
      "source": [
        "iterations = list()\n",
        "acc_list = list()\n",
        "x_train, x_test, y_train, y_test = train_test_split(best_sample_df.drop('target', axis=1), best_sample_df.target, test_size=0.3, random_state=42, stratify=best_sample_df.target)\n",
        "x_train = StandardScaler().fit_transform(x_train)\n",
        "\n",
        "for i in range(100):\n",
        "    x = i+1\n",
        "    svm = SVC(C=1, degree=2, gamma=0.01, kernel='poly', max_iter=x)\n",
        "    svm.fit(x_train, y_train)\n",
        "    y_pred = svm.predict(x_test)\n",
        "    accuracy = accuracy_score(y_test, y_pred)\n",
        "    acc_list.append(accuracy)\n",
        "    iterations.append(x)"
      ],
      "metadata": {
        "id": "L69RgwrzJWZz"
      },
      "execution_count": 9,
      "outputs": []
    },
    {
      "cell_type": "code",
      "source": [
        "import numpy as np\n",
        "iterations = np.array(iterations)\n",
        "acc_list = np.array(acc_list)"
      ],
      "metadata": {
        "id": "Q_V4ynWvJc3v"
      },
      "execution_count": 10,
      "outputs": []
    },
    {
      "cell_type": "code",
      "source": [
        "print(iterations.shape)\n",
        "print(acc_list.shape)"
      ],
      "metadata": {
        "id": "PmKoE4aQJfsR",
        "colab": {
          "base_uri": "https://localhost:8080/"
        },
        "outputId": "7d73828d-8eeb-41a8-93dc-a38bbd51c43c"
      },
      "execution_count": 11,
      "outputs": [
        {
          "output_type": "stream",
          "name": "stdout",
          "text": [
            "(100,)\n",
            "(100,)\n"
          ]
        }
      ]
    },
    {
      "cell_type": "code",
      "source": [
        "plt.plot(iterations, acc_list)\n",
        "plt.xlabel('Number of iterations')\n",
        "plt.ylabel('Accuracy')\n",
        "plt.title('Convergence of SVC')\n",
        "plt.show()"
      ],
      "metadata": {
        "id": "rx_QEeWlJiZn",
        "colab": {
          "base_uri": "https://localhost:8080/",
          "height": 472
        },
        "outputId": "2ce23410-1446-49e2-8de8-7b5df59fff3f"
      },
      "execution_count": 12,
      "outputs": [
        {
          "output_type": "display_data",
          "data": {
            "text/plain": [
              "<Figure size 640x480 with 1 Axes>"
            ],
            "image/png": "[encoded data removed]"
          },
          "metadata": {}
        }
      ]
    },
    {
      "cell_type": "code",
      "source": [],
      "metadata": {
        "id": "q-AVGM6VJlCd"
      },
      "execution_count": null,
      "outputs": []
    }
  ]
}